{
 "cells": [
  {
   "cell_type": "markdown",
   "metadata": {},
   "source": [
    "---\n",
    "title: \"Indexing, Slicing and Subsetting DataFrames in Python\"\n",
    "teaching: 15   \n",
    "exercises: 10\n",
    "questions:\n",
    "- \"How do we access different parts of a DataFrame?\"\n",
    "objectives:\n",
    "- \"Learn about 0-based indexing in Python.\"\n",
    "- \"Learn about numeric vs. label based indexes.\"\n",
    "- \"Learn how to select subsets of data from a DataFrame using Slicing and\n",
    "   Indexing methods.\"\n",
    "- \"Understand what a boolean object is and how it can be used to 'mask' or\n",
    "   identify particular sets of values within another object.\"\n",
    "\n",
    "keypoints:\n",
    "- \"Indexing & Slicing.\"\n",
    "\n",
    "# training: http://swcarpentry.github.io/instructor-training\n",
    "training: do-we-have-a-repo-of-python-training-resources ?\n",
    "---\n",
    "\n",
    "## Making Sure Our Data Are Loaded\n",
    "\n",
    "We will continue to use the articles dataset that we worked with in the last\n",
    "exercise. Let's reopen it:"
   ]
  },
  {
   "cell_type": "code",
   "execution_count": null,
   "metadata": {},
   "outputs": [],
   "source": [
    "# first make sure pandas is loaded\n",
    "import pandas as pd\n",
    "# read in the survey csv\n",
    "articles_df = pd.read_csv(\"articles.csv\")"
   ]
  },
  {
   "cell_type": "markdown",
   "metadata": {},
   "source": [
    "{: .source}\n",
    "\n",
    "# Indexing & Slicing in Python\n",
    "\n",
    "We often want to work with subsets of a **DataFrame** object. There are\n",
    "different ways to accomplish this including: using labels (column headings),\n",
    "numeric ranges or specific x,y index locations.\n",
    "\n",
    "\n",
    "## Selecting Data Using Labels (Column Headings)\n",
    "\n",
    "We use square brackets `[]` to select a subset of an Python object. For example,\n",
    "we can select all of data from a column named `Authors` from the `articles_df`\n",
    "DataFrame by name:"
   ]
  },
  {
   "cell_type": "code",
   "execution_count": null,
   "metadata": {},
   "outputs": [],
   "source": [
    "articles_df['Authors']"
   ]
  },
  {
   "cell_type": "markdown",
   "metadata": {},
   "source": [
    "{: .source}\n",
    "\n",
    "This syntax, calling the column as an attribute, gives you the same output:"
   ]
  },
  {
   "cell_type": "code",
   "execution_count": null,
   "metadata": {},
   "outputs": [],
   "source": [
    "articles_df.Authors"
   ]
  },
  {
   "cell_type": "markdown",
   "metadata": {},
   "source": [
    "{: .source}\n",
    "\n",
    "We can also create an new object that contains the data within the `Authors`\n",
    "column as follows:"
   ]
  },
  {
   "cell_type": "code",
   "execution_count": null,
   "metadata": {},
   "outputs": [],
   "source": [
    "# create an object named authors that only contains the *Authors* column\n",
    "authors = articles_df['Authors']"
   ]
  },
  {
   "cell_type": "markdown",
   "metadata": {},
   "source": [
    "{: .source}\n",
    "\n",
    "We can pass a list of column names too, as an index to select columns in that\n",
    "order. This is useful when we need to reorganize our data.\n",
    "\n",
    "**NOTE:** If a column name is not contained in the DataFrame, an exception\n",
    "(error) will be raised."
   ]
  },
  {
   "cell_type": "code",
   "execution_count": null,
   "metadata": {},
   "outputs": [],
   "source": [
    "# select the Authors and ISSNs (publishers) columns from the DataFrame\n",
    "articles_df[['Authors', 'ISSNs']]\n",
    "# what happens when you flip the order?\n",
    "articles_df[['ISSNs', 'Authors']]\n",
    "#what happens if you ask for a column that doesn't exist?\n",
    "articles_df['column_that_does_not_exist']"
   ]
  },
  {
   "cell_type": "markdown",
   "metadata": {},
   "source": [
    "{: .source}\n",
    "\n",
    "\n",
    "## Extracting Range based Subsets: Slicing\n",
    "\n",
    "**REMINDER**: Python Uses 0-based Indexing\n",
    "\n",
    "Let's remind ourselves that Python uses 0-based\n",
    "indexing. This means that the first element in an object is located at\n",
    "position 0.\n",
    "This is different from other tools like R and Matlab that index elements\n",
    "within objects starting at 1."
   ]
  },
  {
   "cell_type": "code",
   "execution_count": null,
   "metadata": {},
   "outputs": [],
   "source": [
    "# Create a list of numbers\n",
    "grades = [88, 72, 93, 94]"
   ]
  },
  {
   "cell_type": "markdown",
   "metadata": {},
   "source": [
    "{: .source}\n",
    "\n",
    "![indexing diagram]({{ page.root }}/fig/slicing-indexing.svg)\n",
    "![slicing diagram]({{ page.root }}/fig/slicing-slicing.svg)\n",
    "\n",
    "> ## Challenge\n",
    ">\n",
    "> 1. What value does the code below return?\n",
    ">\n",
    "> ~~~\n",
    "> grades[0]\n",
    "> ~~~\n",
    "> {: .source}\n",
    "> 2. How about this:\n",
    ">\n",
    "> ~~~\n",
    "> grades[4]\n",
    "> ~~~\n",
    "> {: .source}\n",
    "> 3. Or this?\n",
    ">\n",
    "> ~~~\n",
    "> grades[len(grades)]\n",
    "> ~~~\n",
    "> {: .source}\n",
    "> 4. In the example above, calling `grades[4]` returns an error. Why is that?\n",
    "{: .challenge}\n",
    "\n",
    "## Slicing Subsets of Rows in Python\n",
    "\n",
    "Slicing using the `[]` operator selects a set of rows and/or columns from a\n",
    "DataFrame. To slice out a set of rows, you use the following syntax:\n",
    "`data[start:stop]`. When slicing in pandas the start bound is included in the\n",
    "output. The stop bound is one step BEYOND the row you want to select. So if you\n",
    "want to select rows 0, 1 and 2 your code would look like this:"
   ]
  },
  {
   "cell_type": "code",
   "execution_count": null,
   "metadata": {},
   "outputs": [],
   "source": [
    "# select rows 0,1,2 (but not 3)\n",
    "articles_df[0:3]"
   ]
  },
  {
   "cell_type": "markdown",
   "metadata": {},
   "source": [
    "{: .source}\n",
    "\n",
    "The stop bound in Python is different from what you might be used to in\n",
    "languages like Matlab and R."
   ]
  },
  {
   "cell_type": "code",
   "execution_count": null,
   "metadata": {},
   "outputs": [],
   "source": [
    "# select the first, second and third rows from the articles_df\n",
    "articles_df[0:3]\n",
    "# select the first 5 rows (rows 0,1,2,3,4)\n",
    "articles_df[:5]\n",
    "# select the last element in the list\n",
    "articles_df[-1:]"
   ]
  },
  {
   "cell_type": "markdown",
   "metadata": {},
   "source": [
    "{: .source}\n",
    "\n",
    "We can also reassign values within subsets of our DataFrame.\n",
    "But before we do that, let's make a\n",
    "copy of our DataFrame so as not to modify our original imported data."
   ]
  },
  {
   "cell_type": "code",
   "execution_count": null,
   "metadata": {},
   "outputs": [],
   "source": [
    "# copy the surveys dataframe so we don't modify the original DataFrame\n",
    "articles_copy = articles_df\n",
    "\n",
    "# set the first three rows of data in the DataFrame to 0\n",
    "articles_copy[0:3] = 0"
   ]
  },
  {
   "cell_type": "markdown",
   "metadata": {},
   "source": [
    "{: .source}\n",
    "\n",
    "Next, try the following code:"
   ]
  },
  {
   "cell_type": "code",
   "execution_count": null,
   "metadata": {},
   "outputs": [],
   "source": [
    "articles_copy.head()\n",
    "articles_df.head()"
   ]
  },
  {
   "cell_type": "markdown",
   "metadata": {},
   "source": [
    "{: .source}\n",
    "What is the difference between the two data frames?\n",
    "\n",
    "## Referencing Objects vs Copying Objects in Python\n",
    "We might have thought that we were creating a fresh copy of the `articles_df` objects when we\n",
    "used the code `articles_copy = articles_df`. However the statement  `y = x` doesn’t create a copy of our DataFrame.\n",
    "It creates a new variable `y` that refers to the **same** object `x` refers to. This means that there is only one object\n",
    "(the DataFrame), and both `x` and `y` refer to it. So when we assign the first 3 columns the value of 0 using the\n",
    "`articles_copy` DataFrame, the `articles_df` DataFrame is modified too. To create a fresh copy of the `articles_df`\n",
    "DataFrame we use the syntax `y = x.copy()`. But before we have to read the `articles_df` again because the current version contains the unintentional changes made to the first 3 columns."
   ]
  },
  {
   "cell_type": "code",
   "execution_count": null,
   "metadata": {},
   "outputs": [],
   "source": [
    "articles_df = pd.read_csv(\"articles.csv\")\n",
    "articles_copy = articles_df.copy()"
   ]
  },
  {
   "cell_type": "markdown",
   "metadata": {},
   "source": [
    "{: .source}\n",
    "\n",
    "## Slicing Subsets of Rows and Columns in Python\n",
    "\n",
    "We can select specific ranges of our data in both the row and column directions\n",
    "using either label or integer-based indexing.\n",
    "\n",
    "- `loc`: indexing via *labels* or *integers*\n",
    "- `iloc`: indexing via *integers*\n",
    "\n",
    "To select a subset of rows AND columns from our DataFrame, we can use the `iloc`\n",
    "method. For example, we can select month, day and year (columns 2, 3 and 4 if we\n",
    "start counting at 1), like this:"
   ]
  },
  {
   "cell_type": "code",
   "execution_count": null,
   "metadata": {},
   "outputs": [],
   "source": [
    "articles_df.iloc[0:3, 1:4]"
   ]
  },
  {
   "cell_type": "markdown",
   "metadata": {},
   "source": [
    "{: .source}\n",
    "\n",
    "which gives:"
   ]
  },
  {
   "cell_type": "code",
   "execution_count": null,
   "metadata": {},
   "outputs": [],
   "source": [
    "                                               Title  \\\n",
    "0   The Fisher Thermodynamics of Quasi-Probabilities   \n",
    "1  Aflatoxin Contamination of the Milk Supply: A ...   \n",
    "2  Metagenomic Analysis of Upwelling-Affected Bra...   \n",
    "\n",
    "                                             Authors  \\\n",
    "0                     Flavia Pennini|Angelo Plastino   \n",
    "1                         Naveed Aslam|Peter C. Wynn   \n",
    "2  Rafael R. C. Cuadrat|Juliano C. Cury|Alberto M...   \n",
    "\n",
    "                          DOI  \n",
    "0           10.3390/e17127853  \n",
    "1  10.3390/agriculture5041172  \n",
    "2       10.3390/ijms161226101  "
   ]
  },
  {
   "cell_type": "markdown",
   "metadata": {},
   "source": [
    "{: .output}\n",
    "\n",
    "Notice that we asked for a slice from 0:3. This yielded 3 rows of data. When you\n",
    "ask for 0:3, you are actually telling python to start at index 0 and select rows\n",
    "0, 1, 2 **up to but not including 3**.\n",
    "\n",
    "Let's next explore some other ways to index and select subsets of data:"
   ]
  },
  {
   "cell_type": "code",
   "execution_count": null,
   "metadata": {},
   "outputs": [],
   "source": [
    "# select all columns for rows of index values 0 and 10\n",
    "articles_df.loc[[0, 10], :]\n",
    "# what does this do?\n",
    "articles_df.loc[0, ['Authors', 'ISSNs', 'Title']]\n",
    "\n",
    "# What happens when you type the code below?\n",
    "articles_df.loc[[0, 10, 35549], :]"
   ]
  },
  {
   "cell_type": "markdown",
   "metadata": {},
   "source": [
    "{: .source}\n",
    "\n",
    "NOTE: Labels must be found in the DataFrame or you will get a *KeyError*. The\n",
    "start bound and the stop bound are **included**.  When using `loc`, integers\n",
    "*can* also be used, but they refer to the index label and not the position. Thus\n",
    "when you use `loc`, and select 1:4, you will get a different result than using\n",
    "`iloc` to select rows 1:4.\n",
    "\n",
    "We can also select a specific data value according to the specific row and\n",
    "column location within the data frame using the `iloc` function:\n",
    "`df.iloc[row,column]`."
   ]
  },
  {
   "cell_type": "code",
   "execution_count": null,
   "metadata": {},
   "outputs": [],
   "source": [
    "articles_df.iloc[2,1]"
   ]
  },
  {
   "cell_type": "markdown",
   "metadata": {},
   "source": [
    "{: .source}\n",
    "\n",
    "which gives:"
   ]
  },
  {
   "cell_type": "code",
   "execution_count": null,
   "metadata": {},
   "outputs": [],
   "source": [
    "'Metagenomic Analysis of Upwelling-Affected Brazilian Coastal Seawater Reveals Sequence Domains of Type I PKS and Modular NRPS'"
   ]
  },
  {
   "cell_type": "markdown",
   "metadata": {},
   "source": [
    "{: .output}\n",
    "\n",
    "Remember that Python indexing begins at 0. So, the index location [2, 0] selects\n",
    "the element that is 3 rows down and first column in the DataFrame.\n",
    "\n",
    "> ## Challenge Activities\n",
    ">\n",
    "> 1. What happens when you type:\n",
    ">\n",
    "> ~~~\n",
    "> articles_df[0:3]\n",
    "> articles_df[:5]\n",
    "> articles_df[-1:]\n",
    "> ~~~\n",
    "> {: .source}\n",
    ">\n",
    "> 2. What happens when you call:\n",
    ">     - `articles_df.iloc[0:4, 1:4]`\n",
    ">     - `articles_df.loc[0:4, 1:4]`\n",
    ">     - How are the two commands different?\n",
    "{: .challenge}\n",
    "\n",
    "## Subsetting Data Using Criteria\n",
    "\n",
    "We can also select a subset of our data using criteria. For example, we can\n",
    "select all rows that have a single author."
   ]
  },
  {
   "cell_type": "code",
   "execution_count": null,
   "metadata": {},
   "outputs": [],
   "source": [
    "articles_df[articles_df.Author_Count==1]"
   ]
  },
  {
   "cell_type": "markdown",
   "metadata": {},
   "source": [
    "{: .source}\n",
    "\n",
    "Which produces the following output:"
   ]
  },
  {
   "cell_type": "code",
   "execution_count": null,
   "metadata": {},
   "outputs": [],
   "source": [
    "      id                                              Title  \\\n",
    "15    15  Performance-Based Cognitive Screening Instrume...   \n",
    "27    27  Comments on Ekino et al. Cloning and Character...   \n",
    "64    64  The Ubiquity of Humanity and Textuality in Hum...   \n",
    "...\n",
    "     Author_Count             First_Author  Citation_Count  Day  Month  Year  \n",
    "15              1         Andrew J. Larner               4    1     11  2015  \n",
    "27              1           Leopoldo Palma               4    1     11  2015  \n",
    "...\n",
    "827             1        Natale Perchiazzi               9    1      3  2015  \n",
    "932             1          Anaelle Tilborg               9    1     11  2015  "
   ]
  },
  {
   "cell_type": "markdown",
   "metadata": {},
   "source": [
    "{: .output}\n",
    "\n",
    "Or we can select all rows that have more than one author."
   ]
  },
  {
   "cell_type": "code",
   "execution_count": null,
   "metadata": {},
   "outputs": [],
   "source": [
    "articles_df[articles_df.Author_Count != 1]"
   ]
  },
  {
   "cell_type": "markdown",
   "metadata": {},
   "source": [
    "{: .source}\n",
    "\n",
    "We can define sets of criteria too:"
   ]
  },
  {
   "cell_type": "code",
   "execution_count": null,
   "metadata": {},
   "outputs": [],
   "source": [
    "articles_df[(articles_df.Month >= 7) & (articles_df.Year <= 9)]"
   ]
  },
  {
   "cell_type": "markdown",
   "metadata": {},
   "source": [
    "{: .source}\n",
    "\n",
    "# Python Syntax Cheat Sheet\n",
    "\n",
    "Use can use the syntax below when querying data from a DataFrame. Experiment\n",
    "with selecting various subsets of the \"surveys\" data.\n",
    "\n",
    "* Equals: `==`\n",
    "* Not equals: `!=`\n",
    "* Greater than, less than: `>` or `<`\n",
    "* Greater than or equal to `>=`\n",
    "* Less than or equal to `<=`\n",
    "\n",
    "> ## Challenge Activities\n",
    ">\n",
    "> 1. Select a subset of rows in the `articles_df` DataFrame that contain articles\n",
    ">    from at least 2 authors in Spanish (`LanguageId=3`). How many rows did you\n",
    ">    end up with? What did your neighbor get?\n",
    "> 2. You can use the `isin` command in python to query a DataFrame based upon a\n",
    ">    list of values as follows:\n",
    ">    `articles_df[articles_df['ISSNs'].isin([listGoesHere])]`. Use the `isin` function\n",
    ">    to find all articles from particular ISSNs. How many records did you get?\n",
    "> 3. Experiment with other queries. Create a query that finds all rows with\n",
    ">    an `Author_Count` of 0 or less.\n",
    "> 4. The `~` symbol in Python can be used to return the OPPOSITE of the\n",
    ">    selection that you specify in python. It is equivalent to **is not in**.\n",
    ">    Write a query that selects all rows that are NOT in English (`LanguageId=1`).\n",
    "{: .challenge}\n",
    "\n",
    "# Using Masks\n",
    "\n",
    "A mask can be useful to locate where a particular subset of values exist or\n",
    "don't exist - for example,  NaN, or \"Not a Number\" values. To understand masks,\n",
    "we also need to understand *BOOLEAN* objects in python.\n",
    "\n",
    "Boolean values include `True` or `False`. So for example"
   ]
  },
  {
   "cell_type": "code",
   "execution_count": null,
   "metadata": {},
   "outputs": [],
   "source": [
    "# set x to 5\n",
    "x = 5\n",
    "# what does the code below return?\n",
    "x > 5\n",
    "# how about this?\n",
    "x == 5"
   ]
  },
  {
   "cell_type": "markdown",
   "metadata": {},
   "source": [
    "{: .source}\n",
    "\n",
    "When we ask python what the value of `x > 5` is, we get `False`. This is because x\n",
    "is not greater than 5 it is equal to 5. To create a boolean mask, you first create the\n",
    "True / False criteria (e.g. values > 5 = True). Python will then assess each\n",
    "value in the object to determine whether the value meets the criteria (True) or\n",
    "not (False). Python creates an output object that is the same shape as\n",
    "the original object, but with a True or False value for each index location.\n",
    "\n",
    "Let's try this out. Let's identify all locations in the survey data that have\n",
    "null (missing or NaN) data values. We can use the `isnull` method to do this.\n",
    "Each cell with a null value will be assigned a value of  *True* in the new\n",
    "boolean object."
   ]
  },
  {
   "cell_type": "code",
   "execution_count": null,
   "metadata": {},
   "outputs": [],
   "source": [
    "pd.isnull(articles_df)"
   ]
  },
  {
   "cell_type": "markdown",
   "metadata": {},
   "source": [
    "{: .source}\n",
    "\n",
    "To select the rows where there are null values,  we can use\n",
    "the mask as an index to subset our data as follows:"
   ]
  },
  {
   "cell_type": "code",
   "execution_count": null,
   "metadata": {},
   "outputs": [],
   "source": [
    "#To select just the rows with NaN values, we can use the .any method\n",
    "articles_df[pd.isnull(articles_df).any(axis=1)]"
   ]
  },
  {
   "cell_type": "markdown",
   "metadata": {},
   "source": [
    "{: .source}\n",
    "\n",
    "We can run `isnull` on a particular column too. What does the code below do?"
   ]
  },
  {
   "cell_type": "code",
   "execution_count": null,
   "metadata": {},
   "outputs": [],
   "source": [
    "# what does this do?\n",
    "no_doi = articles_df[pd.isnull(articles_df['DOI'])]"
   ]
  },
  {
   "cell_type": "markdown",
   "metadata": {},
   "source": [
    "{: .source}\n",
    "\n",
    "Let's take a minute to look at the statement above. We are using the Boolean\n",
    "object as an index. We are asking python to select rows that have a `NaN` value\n",
    "for DOI (Digital Object Identifier).\n",
    "\n",
    "\n",
    "> ## Challenges\n",
    ">\n",
    "> 1. Create a new DataFrame that only contains observations with Languages\n",
    ">    that are *NOT* English.\n",
    "> 2. Create a new DataFrame that contains only observations where the author\n",
    ">    count is greater than 2. Create a stacked bar plot of average number of\n",
    ">    authors by language with values stacked for each publisher.\n",
    "{: .challenge}"
   ]
  }
 ],
 "metadata": {},
 "nbformat": 4,
 "nbformat_minor": 2
}
