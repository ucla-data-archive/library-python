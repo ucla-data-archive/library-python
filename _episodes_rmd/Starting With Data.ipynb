{
 "cells": [
  {
   "cell_type": "markdown",
   "metadata": {},
   "source": [
    "# Working with Pandas DataFrames in Python\n",
    "\n",
    "## Working with Library Head Count Data\n",
    "\n",
    "For this lesso, we will use head count data provided by USC's Leavey library. \n"
   ]
  },
  {
   "cell_type": "code",
   "execution_count": 2,
   "metadata": {},
   "outputs": [],
   "source": [
    "import pandas"
   ]
  },
  {
   "cell_type": "code",
   "execution_count": 3,
   "metadata": {},
   "outputs": [
    {
     "name": "stdout",
     "output_type": "stream",
     "text": [
      "hello\n"
     ]
    }
   ],
   "source": [
    "import sys\n",
    "print(\"hello\")"
   ]
  },
  {
   "cell_type": "code",
   "execution_count": 4,
   "metadata": {},
   "outputs": [
    {
     "name": "stdout",
     "output_type": "stream",
     "text": [
      "['', '/Users/timdennis/anaconda3/lib/python36.zip', '/Users/timdennis/anaconda3/lib/python3.6', '/Users/timdennis/anaconda3/lib/python3.6/lib-dynload', '/Users/timdennis/anaconda3/lib/python3.6/site-packages', '/Users/timdennis/anaconda3/lib/python3.6/site-packages/aeosa', '/Users/timdennis/anaconda3/lib/python3.6/site-packages/IPython/extensions', '/Users/timdennis/.ipython']\n"
     ]
    }
   ],
   "source": [
    "print(sys.path)"
   ]
  },
  {
   "cell_type": "code",
   "execution_count": null,
   "metadata": {},
   "outputs": [],
   "source": []
  }
 ],
 "metadata": {
  "kernelspec": {
   "display_name": "Python 3",
   "language": "python",
   "name": "python3"
  },
  "language_info": {
   "codemirror_mode": {
    "name": "ipython",
    "version": 3
   },
   "file_extension": ".py",
   "mimetype": "text/x-python",
   "name": "python",
   "nbconvert_exporter": "python",
   "pygments_lexer": "ipython3",
   "version": "3.6.5"
  }
 },
 "nbformat": 4,
 "nbformat_minor": 2
}
